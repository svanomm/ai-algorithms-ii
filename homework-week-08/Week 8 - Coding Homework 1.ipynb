{
 "cells": [
  {
   "cell_type": "code",
   "execution_count": 1,
   "id": "17d136ec",
   "metadata": {},
   "outputs": [],
   "source": [
    "import tensorflow as tf"
   ]
  },
  {
   "cell_type": "code",
   "execution_count": 2,
   "id": "a594be20",
   "metadata": {},
   "outputs": [],
   "source": [
    "def f(x):\n",
    "    \"\"\"Function: f(x) = 3x^2 + x + 1\"\"\"\n",
    "    return 3*x**2 + x + 1\n",
    "\n",
    "# Define the input value (x=3)\n",
    "x = tf.Variable(3.0)\n",
    "\n",
    "# Use GradientTape to compute the derivative\n",
    "with tf.GradientTape() as tape:\n",
    "    y = f(x)\n",
    "\n",
    "# Calculate the derivative df/dx\n",
    "derivative = tape.gradient(y, x)"
   ]
  },
  {
   "cell_type": "code",
   "execution_count": 3,
   "id": "7a6d9cec",
   "metadata": {},
   "outputs": [
    {
     "name": "stdout",
     "output_type": "stream",
     "text": [
      "f(x) = 3x^2 + x + 1\n",
      "At x = 3.0\n",
      "f'(x) = 19.0\n"
     ]
    }
   ],
   "source": [
    "print(f\"f(x) = 3x^2 + x + 1\")\n",
    "print(f\"At x = {x.numpy()}\")\n",
    "print(f\"f'(x) = {derivative.numpy()}\")"
   ]
  }
 ],
 "metadata": {
  "kernelspec": {
   "display_name": ".venv",
   "language": "python",
   "name": "python3"
  },
  "language_info": {
   "codemirror_mode": {
    "name": "ipython",
    "version": 3
   },
   "file_extension": ".py",
   "mimetype": "text/x-python",
   "name": "python",
   "nbconvert_exporter": "python",
   "pygments_lexer": "ipython3",
   "version": "3.12.10"
  }
 },
 "nbformat": 4,
 "nbformat_minor": 5
}
