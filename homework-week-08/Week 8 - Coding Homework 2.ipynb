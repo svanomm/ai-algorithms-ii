{
 "cells": [
  {
   "cell_type": "code",
   "execution_count": 1,
   "id": "17d136ec",
   "metadata": {},
   "outputs": [],
   "source": [
    "import tensorflow as tf"
   ]
  },
  {
   "cell_type": "code",
   "execution_count": 2,
   "id": "a594be20",
   "metadata": {},
   "outputs": [],
   "source": [
    "def L(w,b,X,y):\n",
    "    \"\"\"Function: L(w,b) = ||wX+b-y||^2\"\"\"\n",
    "    return tf.abs(tf.matmul(w,X) + b - y)**2\n",
    "\n",
    "# Define the input values\n",
    "X = tf.constant([[1.,2.],[3.,4.]])\n",
    "y = tf.constant([1.,2.])\n",
    "w = tf.Variable([[1.,2.]]) # double brackets so that TF interprets as a 1x2 matrix\n",
    "b = tf.Variable(1.)\n",
    "\n",
    "# Use GradientTape to compute the derivative\n",
    "with tf.GradientTape() as tape:\n",
    "    L = L(w,b,X,y)\n",
    "\n",
    "# Calculate the partial derivatives\n",
    "derivatives = tape.gradient(L, [w,b])"
   ]
  },
  {
   "cell_type": "code",
   "execution_count": 3,
   "id": "7a6d9cec",
   "metadata": {},
   "outputs": [
    {
     "name": "stdout",
     "output_type": "stream",
     "text": [
      "L(w,b) = ||wX+b-y||^2\n",
      "L'(w) = [[ 50. 114.]]\n",
      "L'(b) = 32.0\n"
     ]
    }
   ],
   "source": [
    "print(f\"L(w,b) = ||wX+b-y||^2\")\n",
    "print(f\"L'(w) = {derivatives[0].numpy()}\")\n",
    "print(f\"L'(b) = {derivatives[1].numpy()}\")"
   ]
  }
 ],
 "metadata": {
  "kernelspec": {
   "display_name": ".venv",
   "language": "python",
   "name": "python3"
  },
  "language_info": {
   "codemirror_mode": {
    "name": "ipython",
    "version": 3
   },
   "file_extension": ".py",
   "mimetype": "text/x-python",
   "name": "python",
   "nbconvert_exporter": "python",
   "pygments_lexer": "ipython3",
   "version": "3.12.10"
  }
 },
 "nbformat": 4,
 "nbformat_minor": 5
}
